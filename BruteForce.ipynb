{
 "cells": [
  {
   "cell_type": "markdown",
   "metadata": {},
   "source": [
    "BruteForce\n",
    "\n",
    "- This means you go through all of the options.\n",
    "- Total number of possible solutions = multiple of number of options together.\n",
    "- Complexity : Exponential ( add one, you get two times more solutions )\n",
    "- Factorial is greater than exponential!\n",
    "- Complexity : Factorial ( add one and you will get factorial times more solutions)"
   ]
  },
  {
   "cell_type": "markdown",
   "metadata": {},
   "source": []
  },
  {
   "cell_type": "code",
   "execution_count": null,
   "metadata": {},
   "outputs": [],
   "source": []
  }
 ],
 "metadata": {
  "kernelspec": {
   "display_name": "Python 2.7.16 64-bit",
   "name": "python2716jvsc74a57bd0767d51c1340bd893661ea55ea3124f6de3c7a262a8b4abca0554b478b1e2ff90"
  },
  "language_info": {
   "name": "python",
   "version": ""
  },
  "metadata": {
   "interpreter": {
    "hash": "767d51c1340bd893661ea55ea3124f6de3c7a262a8b4abca0554b478b1e2ff90"
   }
  },
  "orig_nbformat": 2
 },
 "nbformat": 4,
 "nbformat_minor": 2
}