{
 "cells": [
  {
   "cell_type": "code",
   "execution_count": 5,
   "metadata": {},
   "outputs": [
    {
     "name": "stdout",
     "output_type": "stream",
     "text": [
      "<class 'list'>\n",
      "4575342784\n",
      "True\n"
     ]
    }
   ],
   "source": [
    "x=['abc']\n",
    "print(type(x))\n",
    "print(id(x))\n",
    "print(isinstance(x, list))\n"
   ]
  },
  {
   "cell_type": "markdown",
   "metadata": {},
   "source": [
    "### Bitwise\n"
   ]
  },
  {
   "cell_type": "code",
   "execution_count": 6,
   "metadata": {},
   "outputs": [
    {
     "name": "stdout",
     "output_type": "stream",
     "text": [
      "(hex) x is 0a , y is 0f and z is 0a\n",
      "(deciman) x is 00001010 , y is 00001111 and z is 00001010\n"
     ]
    }
   ],
   "source": [
    "x=0x0a\n",
    "y=0x0f\n",
    "z = x & y\n",
    "print(f\"(hex) x is {x:02x} , y is {y:02x} and z is {z:02x}\")\n",
    "print(f\"(deciman) x is {x:08b} , y is {y:08b} and z is {z:08b}\")"
   ]
  },
  {
   "cell_type": "markdown",
   "metadata": {},
   "source": [
    "Boolean\n",
    "and \n",
    "or\n",
    "not\n",
    "in \n",
    "not in \n",
    "is \n",
    "not is\n",
    "### Strings are immutable. They have the same ID, optimization. They are indeed, the same object."
   ]
  },
  {
   "cell_type": "code",
   "execution_count": null,
   "metadata": {},
   "outputs": [],
   "source": [
    "for i in range()"
   ]
  },
  {
   "cell_type": "markdown",
   "metadata": {},
   "source": [
    "Data Structures:\n",
    "1. Lists\n",
    "\tMutable\n",
    "2. Tuples\n",
    "\tImmutable"
   ]
  }
 ],
 "metadata": {
  "kernelspec": {
   "display_name": "Python 3.9.5 64-bit",
   "name": "python395jvsc74a57bd0aee8b7b246df8f9039afb4144a1f6fd8d2ca17a180786b69acc140d282b71a49"
  },
  "language_info": {
   "codemirror_mode": {
    "name": "ipython",
    "version": 3
   },
   "file_extension": ".py",
   "mimetype": "text/x-python",
   "name": "python",
   "nbconvert_exporter": "python",
   "pygments_lexer": "ipython3",
   "version": "3.9.5"
  },
  "metadata": {
   "interpreter": {
    "hash": "aee8b7b246df8f9039afb4144a1f6fd8d2ca17a180786b69acc140d282b71a49"
   }
  },
  "orig_nbformat": 2
 },
 "nbformat": 4,
 "nbformat_minor": 2
}