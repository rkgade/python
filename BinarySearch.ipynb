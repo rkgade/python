{
 "cells": [
  {
   "cell_type": "markdown",
   "metadata": {},
   "source": [
    "Find if something exists in a collection\n",
    "\n",
    "For a linear search, the complexity increases linearly with the growth in input size.\n",
    "\n",
    "What if a collection is ordered.\n",
    "\n",
    "Using ordered collection, we can do a lot better.\n",
    "\n",
    "Complexity : Logarithmic \n",
    " "
   ]
  },
  {
   "cell_type": "markdown",
   "metadata": {},
   "source": [
    "Linear Search"
   ]
  },
  {
   "cell_type": "code",
   "execution_count": 1,
   "metadata": {},
   "outputs": [
    {
     "name": "stdout",
     "output_type": "stream",
     "text": [
      "10\n"
     ]
    }
   ],
   "source": [
    "arr = [ 2, 3, 4, 10, 40 ]\n",
    "x = 10\n",
    "\n",
    "for element in arr:\n",
    "\tif x==element:\n",
    "\t\tprint(x)\n",
    "\n"
   ]
  },
  {
   "cell_type": "markdown",
   "metadata": {},
   "source": [
    "Binary Search"
   ]
  },
  {
   "cell_type": "code",
   "execution_count": 8,
   "metadata": {},
   "outputs": [
    {
     "name": "stdout",
     "output_type": "stream",
     "text": [
      "3\n",
      "NOT FOUND\n"
     ]
    }
   ],
   "source": [
    "arr = [ 2, 3, 4, 10, 40 ]\n",
    "x = 10\n",
    "\n",
    "left = 0\n",
    "right = len(arr) -1\n",
    "# mid = (left + right) // 2\n",
    "\n",
    "while left < right:\n",
    "\tmid = (left + right) // 2\n",
    "\tif arr[mid] == x:\n",
    "\t\tprint(mid)\n",
    "\t\tbreak\n",
    "\tif x > arr[mid]:\n",
    "\t\tleft = mid + 1\n",
    "\telse:\n",
    "\t\tright = mid -1\n",
    "\n",
    "print(\"NOT FOUND\")"
   ]
  }
 ],
 "metadata": {
  "kernelspec": {
   "display_name": "Python 3.9.5 64-bit",
   "name": "python395jvsc74a57bd0aee8b7b246df8f9039afb4144a1f6fd8d2ca17a180786b69acc140d282b71a49"
  },
  "language_info": {
   "codemirror_mode": {
    "name": "ipython",
    "version": 3
   },
   "file_extension": ".py",
   "mimetype": "text/x-python",
   "name": "python",
   "nbconvert_exporter": "python",
   "pygments_lexer": "ipython3",
   "version": "3.9.5"
  },
  "metadata": {
   "interpreter": {
    "hash": "aee8b7b246df8f9039afb4144a1f6fd8d2ca17a180786b69acc140d282b71a49"
   }
  },
  "orig_nbformat": 3
 },
 "nbformat": 4,
 "nbformat_minor": 2
}