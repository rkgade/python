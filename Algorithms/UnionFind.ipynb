{
 "cells": [
  {
   "cell_type": "markdown",
   "metadata": {},
   "source": [
    "# Quick Find\n",
    "\n",
    "Dynamic Connectivity\n",
    "\n",
    "There are a set of N objects.\n",
    "\tUnion command connects two objects\n",
    "\tFind/Connected Query:\n",
    "\t\tCheck if two objects are connected.\n",
    "\n",
    "IsConnectedTo is\n",
    "\tReflective\n",
    "\tSymmetric\n",
    "\tTransitive\n",
    "\n",
    "Connected Components\n",
    "\tMaximum set of objects that are mutually connected.\n",
    "\n",
    "Goal:\n",
    "\tDefine effecient data structure for union find.\n",
    "\tNumber of objects N can be huge.\n",
    "\tNumebr of operations M can be huge.\n",
    "\tFind queries and union commands can be mixed.\n",
    "\n",
    "Edger Algorithm:\n",
    "\tUse an array\n",
    "\n",
    "Complexity : \n",
    "\tInitialize : N\n",
    "\tUnion : N\n",
    "\tFind : 1\n",
    "\n",
    "\tIf we have N unions, N times, then complexity is N^2 ( Quadratic )\n"
   ]
  },
  {
   "cell_type": "code",
   "execution_count": 2,
   "metadata": {},
   "outputs": [
    {
     "name": "stdout",
     "output_type": "stream",
     "text": [
      "Hello\n",
      "[0, 1, 2, 3, 4, 5, 6, 7, 12, 9, 10, 11, 12, 13, 14, 15, 16, 17, 18, 19]\n",
      "[0, 1, 2, 3, 4, 5, 6, 7, 15, 9, 10, 11, 15, 13, 14, 15, 16, 17, 18, 19]\n",
      "[0, 1, 2, 3, 4, 5, 6, 7, 18, 9, 10, 11, 18, 13, 14, 18, 16, 17, 18, 19]\n",
      "True\n"
     ]
    }
   ],
   "source": [
    "\n",
    "\n",
    "class UF:\n",
    "\tuf_list = []\n",
    "\tdef __init__(self,n) -> None:\n",
    "\t\t# Create an array of N integers. Initialize array to value starting from 0.\n",
    "\t\tself.uf_list= [x for x in range(0,n)]\n",
    "\t\t# print(self.uf_list)\n",
    "\n",
    "\tdef union(self,p, q):\n",
    "\t\t# Change index of p to q.\n",
    "\t\tpid = self.uf_list[p]\n",
    "\t\tqid = self.uf_list[q]\n",
    "\t\tfor index in range(len(self.uf_list)):\n",
    "\t\t\tif self.uf_list[index] == pid:\n",
    "\t\t\t\tself.uf_list[index] = qid\n",
    "\t\t# self.uf_list[q] = self.uf_list[p]\n",
    "\t\tprint(self.uf_list)\n",
    "\n",
    "\tdef connected(self,p,q) -> bool:\n",
    "\t\tif self.uf_list[p] == self.uf_list[q]:\n",
    "\t\t\treturn True\n",
    "\t\telse:\n",
    "\t\t\treturn False\n",
    "\t\t\n",
    "\n",
    "\tdef find(p) -> int:\n",
    "\t\tpass\n",
    "\n",
    "\tdef count() -> int:\n",
    "\t\tpass\n",
    "\n",
    "if __name__ == '__main__':\n",
    "\tprint(\"Hello\")\n",
    "\tnumber_of_elements = int(input(\"Enter number of elements: N\"))\n",
    "\tuf = UF(number_of_elements)\n",
    "\tuf.union(8,12)\n",
    "\tuf.union(12,15)\n",
    "\tuf.union(15, 18)\n",
    "\tresult = uf.connected(12,15)\n",
    "\tprint(result)"
   ]
  },
  {
   "cell_type": "markdown",
   "metadata": {},
   "source": [
    "# Quick Union \n",
    "\n",
    "Think in terms of Trees.\n",
    "\n",
    "Each components has a parent component.\n",
    "if parent of 3 is 4, the value of 3 in array is 4.\n",
    "\n",
    "Calculate Root.\n",
    "\n",
    "To check if two are connected, check if they have the same root.\n",
    "\n",
    "Calculating Root is some work.\n",
    "\n",
    "Union Operation : \n",
    "\tTo merge components, all we do is set the ID of p's root to the ID of q's root. \n",
    "\tSo, here, we just have to change one value and not parse trough the array.\n",
    "\n",
    "## Cons\n",
    "\tTrees can be very tall\n",
    "\tFind can be very expensive."
   ]
  },
  {
   "cell_type": "code",
   "execution_count": 14,
   "metadata": {},
   "outputs": [
    {
     "name": "stdout",
     "output_type": "stream",
     "text": [
      "9\n",
      "8\n",
      "[0, 1, 2, 8, 3, 5, 5, 7, 8, 8]\n",
      "True\n",
      "False\n"
     ]
    }
   ],
   "source": [
    "class UF:\n",
    "\tuf_list = []\n",
    "\tdef __init__(self,n) -> None:\n",
    "\t\t# Create an array of N integers. Initialize array to value starting from 0.\n",
    "\t\tself.uf_list= [x for x in range(0,n)]\n",
    "\t\t# print(self.uf_list)\n",
    "\t\n",
    "\tdef root(self,i):\n",
    "\t\twhile i != self.uf_list[i]:\n",
    "\t\t\ti = self.uf_list[i]\n",
    "\t\treturn i\n",
    "\n",
    "\tdef union(self,p, q):\n",
    "\t\ti = self.root(p)\n",
    "\t\tj = self.root(q)\n",
    "\t\tself.uf_list[i] = j\n",
    "\n",
    "\n",
    "\tdef connected(self,p,q) -> bool:\n",
    "\t\tif self.root(p) == self.root(q):\n",
    "\t\t\treturn True\n",
    "\t\treturn False\n",
    "\t\t\n",
    "\n",
    "\tdef find(p) -> int:\n",
    "\t\tpass\n",
    "\n",
    "\tdef count() -> int:\n",
    "\t\tpass\n",
    "\n",
    "if __name__ == '__main__':\n",
    "\tnumber_of_elements = int(input(\"Enter number of elements: N\"))\n",
    "\tuf = UF(number_of_elements)\n",
    "\tuf.union(4,3)\n",
    "\tuf.union(3,8)\n",
    "\tuf.union(6,5)\n",
    "\tprint(uf.root(9))\n",
    "\tuf.union(9,4)\n",
    "\tprint(uf.root(9))\n",
    "\n",
    "\n",
    "\tprint(uf.uf_list)\n",
    "\tprint(uf.connected(8,9))\n",
    "\tprint(uf.connected(5,4))\n",
    "\n"
   ]
  }
 ],
 "metadata": {
  "kernelspec": {
   "display_name": "Python 3.9.5 64-bit",
   "name": "python395jvsc74a57bd0aee8b7b246df8f9039afb4144a1f6fd8d2ca17a180786b69acc140d282b71a49"
  },
  "language_info": {
   "codemirror_mode": {
    "name": "ipython",
    "version": 3
   },
   "file_extension": ".py",
   "mimetype": "text/x-python",
   "name": "python",
   "nbconvert_exporter": "python",
   "pygments_lexer": "ipython3",
   "version": "3.9.5"
  },
  "metadata": {
   "interpreter": {
    "hash": "aee8b7b246df8f9039afb4144a1f6fd8d2ca17a180786b69acc140d282b71a49"
   }
  },
  "orig_nbformat": 2
 },
 "nbformat": 4,
 "nbformat_minor": 2
}