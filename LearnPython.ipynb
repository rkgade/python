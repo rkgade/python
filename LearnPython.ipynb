{
 "cells": [
  {
   "cell_type": "markdown",
   "metadata": {},
   "source": [
    "Learn Programming by Computational Thinking\n",
    "\n",
    "Coding is always the final part!\n",
    "\n",
    "Computational thinking is problems solving progress based on concepts from Computer Science.\n",
    "And then we get to algorithms which are what we need to communicate to computer so that we can use it to solve the problems. Finally, we got an understanding of what the computer is capable of doing, and we use that to develop a more structured way of expressing the algorithm and then we called that pseudo code.\n",
    "\n",
    "Programming is just the end of the computational thinking process. It's the act of expressing an algorithm using a syntax that the computer can understand. No matter what programming language you use, everything you've seen up until now about computational thinking, algorithms, and computer hardware, will stay the same."
   ]
  },
  {
   "cell_type": "code",
   "execution_count": 3,
   "metadata": {},
   "outputs": [],
   "source": [
    "# print(4 ** 0.5)\n",
    "\n",
    "# py_list = [ 1, 2, 3]\n",
    "# print(py_list.remove(4))"
   ]
  }
 ],
 "metadata": {
  "kernelspec": {
   "display_name": "Python 3.9.5 64-bit",
   "name": "python395jvsc74a57bd0aee8b7b246df8f9039afb4144a1f6fd8d2ca17a180786b69acc140d282b71a49"
  },
  "language_info": {
   "codemirror_mode": {
    "name": "ipython",
    "version": 3
   },
   "file_extension": ".py",
   "mimetype": "text/x-python",
   "name": "python",
   "nbconvert_exporter": "python",
   "pygments_lexer": "ipython3",
   "version": "3.9.5"
  },
  "metadata": {
   "interpreter": {
    "hash": "aee8b7b246df8f9039afb4144a1f6fd8d2ca17a180786b69acc140d282b71a49"
   }
  },
  "orig_nbformat": 2
 },
 "nbformat": 4,
 "nbformat_minor": 2
}