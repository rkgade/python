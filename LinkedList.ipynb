{
 "cells": [
  {
   "cell_type": "markdown",
   "metadata": {},
   "source": [
    "Linked Lists\n",
    "\n",
    "** Time complexity to insert at the beginning of the array is O(n)\n",
    "** Time complexity to insert at the beginning of the linked list is O(1)\n",
    "Arrays Exist, why linked lists ?\n",
    "\n",
    "It's a linear data structure, think each element as a data structure.\n",
    "Elements aren't stored in contigeous memory location.\n",
    "Linking between elements is made via pointers.\n",
    "\n",
    "It has two components. DATA and Reference \n",
    "You should know HEAD. Else, you don't know where to start from.\n",
    "\n",
    "Empty List : \n",
    "\tHead -> null\n",
    "\n",
    "Last element address is always Null\n",
    "\n",
    "Have a thought process and visualize with a Linked List Image.\n",
    "\n",
    "( Node, Head, Tail, Data, Reference)\n",
    "\n",
    "\n",
    "Array:\n",
    "Cost of Accessing an element.\n",
    "\tBecause it's contiguous... address of i th element = base_addr + 4*i ( number of bytes required for every element.)\n",
    "\tCost is 0(1)\n",
    "You Should know how many elements you want to store in the list.\n",
    "\tYou choose 5 today, you choose 6 tomorrow.\n",
    "\tYou might not be able to extend it.\n",
    "\tYou might have to create a new memory chunk.\n",
    "\tYou might not predict how many elements and how much of a space would you need.\n",
    "\tYou would have to declare fixed size before starting.\n",
    "\n",
    "\n",
    "Linked List:\n",
    "\tCost of Accessing an element.\n",
    "\tBecause it's not contiguous... you have to iterate.\n",
    "\tCost is 0(n)\n",
    "You Should know how many elements you want to store in the list.\n",
    "\tYou choose 5 today, you choose 6 tomorrow.\n",
    "\tYou might not be able to extend it.\n",
    "\tYou might have to create a new memory chunk.\n",
    "\tYou might not predict how many elements and how much of a space would you need.\n",
    "\tYou would have to declare fixed size before starting.\n",
    "Cost of Insert\n",
    "\n",
    "\n",
    "\n",
    "\n",
    "NODE CLass\n",
    "Class Node {\n",
    "\tint val;\n",
    "\tNode next;\n",
    "\tnode(int value){\n",
    "\t\tself.val = value;\n",
    "\t\tnext = null;\n",
    "\t}\n",
    "}\n",
    "\n",
    "Edge cases to check\n",
    "1. Where are you inserting ?\n",
    "2. Look for corner cases.\n",
    "\n",
    "Insert at L from end ?\n",
    "\tSlow and Fast Pointer ( N,M ) so that N + L = M\n",
    "\tWhen M reaches end, N is the answer.\n",
    "Insert at middle?\n",
    "\tSlow and Fast Pointer ( 2x speed )"
   ]
  },
  {
   "cell_type": "code",
   "execution_count": 3,
   "metadata": {},
   "outputs": [],
   "source": [
    "class Node:\n",
    "\tdef __init__(self, data=None, next=None) -> None:\n",
    "\t\tself.data = data\n",
    "\t\tself.next = next\n",
    "\t\t\n",
    "\t\n"
   ]
  },
  {
   "cell_type": "markdown",
   "metadata": {},
   "source": [
    "Interview Questions\n",
    "\n",
    "Perfect Loop\n",
    "\tPut traversed nodes into a HashSet.\n",
    "\tAlways ask if I have seen the Node before.\n",
    "\tUse a boolean to know if you visited a node or not.\n",
    "\t\tCON : \n",
    "\t\t\tSingle Linked List\n",
    "\t\t\tYou cannot traverse the same Linked List twice!\n",
    "\t\t\tYou modified the original data.\n",
    "\t\t\tThis could impact future operations.\n",
    "\t\tSolution:\n",
    "\t\t\tYou might have to make the boolean false again.\n",
    "\tBest Solution:\n",
    "\t\tSlow and Fast Pointer. Fast = 2x of Slow.\n",
    "\t\tIf there is a loop, they will meet!"
   ]
  },
  {
   "cell_type": "markdown",
   "metadata": {},
   "source": [
    "Two Linked Lists : One Meeting point.\n",
    "Find the intersecting point.\n",
    "\n",
    "Use a hashset to store already visited memory addresses.\n",
    "\n",
    "What is using a hashset isn't allowed?\n",
    "\n",
    "Use the difference in length : use the difference to iterate from the larger and the smaller and then go 1 by 1, until they meet.\n"
   ]
  }
 ],
 "metadata": {
  "kernelspec": {
   "display_name": "Python 3.9.5 64-bit",
   "name": "python395jvsc74a57bd0aee8b7b246df8f9039afb4144a1f6fd8d2ca17a180786b69acc140d282b71a49"
  },
  "language_info": {
   "codemirror_mode": {
    "name": "ipython",
    "version": 3
   },
   "file_extension": ".py",
   "mimetype": "text/x-python",
   "name": "python",
   "nbconvert_exporter": "python",
   "pygments_lexer": "ipython3",
   "version": "3.9.5"
  },
  "metadata": {
   "interpreter": {
    "hash": "aee8b7b246df8f9039afb4144a1f6fd8d2ca17a180786b69acc140d282b71a49"
   }
  },
  "orig_nbformat": 2
 },
 "nbformat": 4,
 "nbformat_minor": 2
}