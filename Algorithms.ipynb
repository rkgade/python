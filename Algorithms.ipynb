{
 "cells": [
  {
   "cell_type": "markdown",
   "metadata": {},
   "source": [
    "Find Largest Number\n",
    "\n",
    "Iterate through the list\n",
    "- Save the largest seen so far.\n",
    "- If next item is larger than current max\n",
    "    - Update current max\n",
    "- By the end of the iteration\n",
    "    - return max"
   ]
  },
  {
   "cell_type": "code",
   "execution_count": 2,
   "metadata": {},
   "outputs": [
    {
     "name": "stdout",
     "output_type": "stream",
     "text": [
      "[50, 78, 98, 73, 72, 56, 71, 22, 1, 9, 35]\n",
      "98\n",
      "1\n"
     ]
    }
   ],
   "source": [
    "import  sys\n",
    "\n",
    "input = [ 50, 78, 98, 73, 72, 56, 71, 22, 1, 9, 35 ]\n",
    "print(input)\n",
    "largest=0\n",
    "for element in input:\n",
    "\tif element > largest:\n",
    "\t\tlargest=element\n",
    "print(largest)\n",
    "smallest= sys.maxsize\n",
    "for element in input:\n",
    "\tif element < smallest:\n",
    "\t\tsmallest=element\n",
    "print(smallest)\n"
   ]
  },
  {
   "cell_type": "markdown",
   "metadata": {},
   "source": [
    "Find Two Largest Numbers\n",
    "\n",
    "Read first two numbers, num1 and num2\n",
    "- Figure out mix and max of num1 and num2\n",
    "- if num1 > num2\n",
    "    - max1= num1\n",
    "    - max2= num2\n",
    "- else\n",
    "    - max1=num2 ( 2 )\n",
    "    - max2=num1 ( 4 )\n",
    "- Read next number, nextnum . [ If it's 1 ]\n",
    "- If nextnum > max1\n",
    "    - max2 = max1 ( 2 )\n",
    "    - max1 = nextnum ( 1 )\n",
    "- else // nextnum is < max1\n",
    "    - if nextnum > max2\n",
    "        - max2 = nextnum\n",
    "\n",
    "* Complete the Iteration"
   ]
  },
  {
   "cell_type": "code",
   "execution_count": 9,
   "metadata": {},
   "outputs": [
    {
     "name": "stdout",
     "output_type": "stream",
     "text": [
      "Min1 : 78\n",
      "Min2 : 73\n"
     ]
    }
   ],
   "source": [
    "input = [ 50, 78, 98, 73, 72, 56, 71, 22, 1, 9, 35 ]\n",
    "input = [ 50, 78, 2, 73, 5, 56, 71, 22, 1, 9, 35 ]\n",
    "num1 = input[0]\n",
    "num2 = input[1]\n",
    "if num1 > num2:\n",
    "\tmax1=num1\n",
    "\tmax2 = num2\n",
    "else:\n",
    "\tmax1 = num2\n",
    "\tmax2 = num1\n",
    "\n",
    "for element in input[2:]:\n",
    "\tif element > max1:\n",
    "\t\tmax2 = max1\n",
    "\t\tmax1 = element\n",
    "\telse:\n",
    "\t\tif element > max2:\n",
    "\t\t\tmax2 = element\n",
    "\n",
    "print(f'Min1 : {max1}')\n",
    "print(f'Min2 : {max2}')"
   ]
  },
  {
   "cell_type": "markdown",
   "metadata": {},
   "source": [
    "Find Two Smallest Numbers\n",
    "\n",
    "Read first two numbers, num1 and num2\n",
    "- Figure out mix and max of num1 and num2\n",
    "- if num1 < num2\n",
    "    - min1= num1\n",
    "    - min2= num2\n",
    "- else\n",
    "    - min1=num2 ( 2 )\n",
    "    - min2=num1 ( 4 )\n",
    "- Read next number, nextnum . [ If it's 1 ]\n",
    "- If nextnum < min1\n",
    "    - min2 = min1 ( 2 )\n",
    "    - min1 = nextnum ( 1 )\n",
    "- else // nextnum is > min1\n",
    "    - if nextnum < min2\n",
    "        - min2 = nextnum\n",
    "\n",
    "* Complete the Iteration"
   ]
  },
  {
   "cell_type": "code",
   "execution_count": 8,
   "metadata": {},
   "outputs": [
    {
     "name": "stdout",
     "output_type": "stream",
     "text": [
      "Min1 : 1\n",
      "Min2 : 2\n"
     ]
    }
   ],
   "source": [
    "input = [ 50, 78, 98, 73, 72, 56, 71, 22, 1, 9, 35 ]\n",
    "input = [ 50, 78, 2, 73, 5, 56, 71, 22, 1, 9, 35 ]\n",
    "num1 = input[0]\n",
    "num2 = input[1]\n",
    "if num1 < num2:\n",
    "\tmin1=num1\n",
    "\tmin2 = num2\n",
    "else:\n",
    "\tmin1 = num2\n",
    "\tmin2 = num1\n",
    "\n",
    "for element in input[2:]:\n",
    "\tif element < min1:\n",
    "\t\tmin2 = min1\n",
    "\t\tmin1 = element\n",
    "\telse:\n",
    "\t\tif element < min2:\n",
    "\t\t\tmin2 = element\n",
    "\n",
    "print(f'Min1 : {min1}')\n",
    "print(f'Min2 : {min2}')\n",
    "\n"
   ]
  },
  {
   "cell_type": "markdown",
   "metadata": {},
   "source": [
    "Sorting\n",
    "\n",
    "Sort a collection\n",
    "- This is a Bubble Sort."
   ]
  },
  {
   "cell_type": "code",
   "execution_count": 8,
   "metadata": {},
   "outputs": [
    {
     "name": "stdout",
     "output_type": "stream",
     "text": [
      "[1, 1, 9, 9, 22, 22, 35, 35, 50, 50, 56, 56, 71, 71, 72, 72, 73, 73, 78, 78, 98, 98]\n"
     ]
    }
   ],
   "source": [
    "input = [ 50, 78, 98, 73, 72, 56, 71, 22, 1, 9, 35 ,50, 78, 98, 73, 72, 56, 71, 22, 1, 9, 35]\n",
    "\n",
    "stop = len(input) -1\n",
    "for element in input:\n",
    "\tfor i in range(0,stop):\n",
    "\t\tif input[i] > input[i+1]:\n",
    "\t\t\ttemp=input[i]\n",
    "\t\t\tinput[i] = input[i+1]\n",
    "\t\t\tinput[i+1] = temp\n",
    "\n",
    "print(input)\n"
   ]
  }
 ],
 "metadata": {
  "kernelspec": {
   "display_name": "Python 3.9.5 64-bit",
   "name": "python395jvsc74a57bd0aee8b7b246df8f9039afb4144a1f6fd8d2ca17a180786b69acc140d282b71a49"
  },
  "language_info": {
   "codemirror_mode": {
    "name": "ipython",
    "version": 3
   },
   "file_extension": ".py",
   "mimetype": "text/x-python",
   "name": "python",
   "nbconvert_exporter": "python",
   "pygments_lexer": "ipython3",
   "version": "3.9.5"
  },
  "metadata": {
   "interpreter": {
    "hash": "aee8b7b246df8f9039afb4144a1f6fd8d2ca17a180786b69acc140d282b71a49"
   }
  },
  "orig_nbformat": 2
 },
 "nbformat": 4,
 "nbformat_minor": 2
}